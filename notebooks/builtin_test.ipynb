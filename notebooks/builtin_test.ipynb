{
 "cells": [
  {
   "cell_type": "code",
   "execution_count": 14,
   "id": "swiss-pressure",
   "metadata": {},
   "outputs": [],
   "source": [
    "import pandas as pd\n",
    "import mlflow\n",
    "import math\n",
    "\n",
    "\n",
    "from sklearn.model_selection import train_test_split\n",
    "from sklearn.linear_model import LinearRegression\n",
    "from sklearn.metrics import mean_squared_error, r2_score\n",
    "from xgboost import XGBRFRegressor, XGBRegressor"
   ]
  },
  {
   "cell_type": "code",
   "execution_count": 15,
   "id": "stopped-paradise",
   "metadata": {},
   "outputs": [
    {
     "name": "stdout",
     "output_type": "stream",
     "text": [
      "vol:  1460\n"
     ]
    },
    {
     "data": {
      "text/html": [
       "<div>\n",
       "<style scoped>\n",
       "    .dataframe tbody tr th:only-of-type {\n",
       "        vertical-align: middle;\n",
       "    }\n",
       "\n",
       "    .dataframe tbody tr th {\n",
       "        vertical-align: top;\n",
       "    }\n",
       "\n",
       "    .dataframe thead th {\n",
       "        text-align: right;\n",
       "    }\n",
       "</style>\n",
       "<table border=\"1\" class=\"dataframe\">\n",
       "  <thead>\n",
       "    <tr style=\"text-align: right;\">\n",
       "      <th></th>\n",
       "      <th>tamanho</th>\n",
       "      <th>ano</th>\n",
       "      <th>garagem</th>\n",
       "      <th>preco</th>\n",
       "    </tr>\n",
       "  </thead>\n",
       "  <tbody>\n",
       "    <tr>\n",
       "      <th>0</th>\n",
       "      <td>159.0</td>\n",
       "      <td>2003</td>\n",
       "      <td>2</td>\n",
       "      <td>208500</td>\n",
       "    </tr>\n",
       "    <tr>\n",
       "      <th>1</th>\n",
       "      <td>117.0</td>\n",
       "      <td>1976</td>\n",
       "      <td>2</td>\n",
       "      <td>181500</td>\n",
       "    </tr>\n",
       "    <tr>\n",
       "      <th>2</th>\n",
       "      <td>166.0</td>\n",
       "      <td>2001</td>\n",
       "      <td>2</td>\n",
       "      <td>223500</td>\n",
       "    </tr>\n",
       "  </tbody>\n",
       "</table>\n",
       "</div>"
      ],
      "text/plain": [
       "   tamanho   ano  garagem   preco\n",
       "0    159.0  2003        2  208500\n",
       "1    117.0  1976        2  181500\n",
       "2    166.0  2001        2  223500"
      ]
     },
     "execution_count": 15,
     "metadata": {},
     "output_type": "execute_result"
    }
   ],
   "source": [
    "df = pd.read_csv('../data/processed/casas.csv')\n",
    "print('vol: ',df.shape[0])\n",
    "df.head(3)"
   ]
  },
  {
   "cell_type": "code",
   "execution_count": 16,
   "id": "lightweight-consortium",
   "metadata": {},
   "outputs": [],
   "source": [
    "X = df.drop('preco',axis=1)\n",
    "y = df['preco'].copy()\n",
    "\n",
    "X_train, X_test, y_train, y_test = train_test_split(X, y, test_size=0.3, random_state=42)"
   ]
  },
  {
   "cell_type": "markdown",
   "id": "biological-shell",
   "metadata": {},
   "source": [
    "# Experiment 1 - Linear Regression"
   ]
  },
  {
   "cell_type": "code",
   "execution_count": 17,
   "id": "numerical-contribution",
   "metadata": {},
   "outputs": [
    {
     "name": "stderr",
     "output_type": "stream",
     "text": [
      "2023/10/13 10:48:08 INFO mlflow.tracking.fluent: Experiment with name 'house-prices-eda' does not exist. Creating a new experiment.\n"
     ]
    },
    {
     "name": "stdout",
     "output_type": "stream",
     "text": [
      "mse:  2078666917.9289913 \n",
      "rmse:  45592.399782518485 \n",
      "r2:  0.7021153642898048\n"
     ]
    },
    {
     "name": "stderr",
     "output_type": "stream",
     "text": [
      "c:\\Users\\renan.vital\\Anaconda3\\envs\\mlflow\\lib\\site-packages\\_distutils_hack\\__init__.py:33: UserWarning: Setuptools is replacing distutils.\n",
      "  warnings.warn(\"Setuptools is replacing distutils.\")\n"
     ]
    }
   ],
   "source": [
    "mlflow.set_experiment('house-prices-eda')\n",
    "mlflow.start_run()\n",
    "\n",
    "lr = LinearRegression()\n",
    "lr.fit(X_train, y_train)\n",
    "\n",
    "mlflow.sklearn.log_model(lr,'lr')\n",
    "lr_predicted = lr.predict(X_test)\n",
    "\n",
    "mse = mean_squared_error(y_test, lr_predicted)\n",
    "rmse =  math.sqrt(mse)\n",
    "r2 = r2_score(y_test, lr_predicted)\n",
    "\n",
    "print('mse: ',mse,'\\nrmse: ',rmse,'\\nr2: ',r2)\n",
    "mlflow.log_metric('mse',mse)\n",
    "mlflow.log_metric('rmse',rmse)\n",
    "mlflow.log_metric('r2',r2)\n",
    "mlflow.end_run()"
   ]
  },
  {
   "cell_type": "markdown",
   "id": "4f60aa08",
   "metadata": {},
   "source": [
    "# Experiment 2 - XGB Regression"
   ]
  },
  {
   "cell_type": "code",
   "execution_count": 18,
   "id": "efficient-mauritius",
   "metadata": {},
   "outputs": [
    {
     "name": "stdout",
     "output_type": "stream",
     "text": [
      "mse:  1386727460.1346002 \n",
      "rmse:  37238.789724353286 \n",
      "r2:  0.8012741720529797\n"
     ]
    }
   ],
   "source": [
    "xgb_params = {\n",
    "    'learning_rate':0.2,\n",
    "    'n_estimators': 50,\n",
    "    'random_state':42\n",
    "}\n",
    "\n",
    "with mlflow.start_run():\n",
    "    xgb = XGBRegressor(**xgb_params)\n",
    "    xgb.fit(X_train, y_train)\n",
    "    mlflow.xgboost.log_model(xgb,'xgboost')\n",
    "\n",
    "    xgb_predicted = xgb.predict(X_test)\n",
    "    mse = mean_squared_error(y_test, xgb_predicted)\n",
    "    rmse =  math.sqrt(mse)\n",
    "    r2 = r2_score(y_test, xgb_predicted)\n",
    "    \n",
    "    print('mse: ',mse,'\\nrmse: ',rmse,'\\nr2: ',r2)\n",
    "    mlflow.log_metric('mse',mse)\n",
    "    mlflow.log_metric('rmse',rmse)\n",
    "    mlflow.log_metric('r2',r2)"
   ]
  },
  {
   "cell_type": "markdown",
   "id": "5339ccaa",
   "metadata": {},
   "source": [
    "<H1>Get experiments</H1>"
   ]
  },
  {
   "cell_type": "code",
   "execution_count": 29,
   "id": "external-month",
   "metadata": {},
   "outputs": [
    {
     "data": {
      "text/plain": [
       "<Experiment: artifact_location='file:///c:/Users/renan.vital/Documents/Pessoal/ml_flow/mlflow/notebooks/mlruns/154567500677710227', creation_time=1697204888510, experiment_id='154567500677710227', last_update_time=1697204888510, lifecycle_stage='active', name='house-prices-eda', tags={}>"
      ]
     },
     "execution_count": 29,
     "metadata": {},
     "output_type": "execute_result"
    }
   ],
   "source": [
    "mlflow.get_experiment_by_name('house-prices-eda')"
   ]
  },
  {
   "cell_type": "code",
   "execution_count": 75,
   "id": "virtual-arctic",
   "metadata": {},
   "outputs": [
    {
     "data": {
      "text/plain": [
       "<Experiment: artifact_location='file:///c:/Users/renan.vital/Documents/Pessoal/ml_flow/mlflow/notebooks/mlruns/154567500677710227', creation_time=1697204888510, experiment_id='154567500677710227', last_update_time=1697204888510, lifecycle_stage='active', name='house-prices-eda', tags={}>"
      ]
     },
     "execution_count": 75,
     "metadata": {},
     "output_type": "execute_result"
    }
   ],
   "source": [
    "mlflow.get_experiment('154567500677710227')"
   ]
  },
  {
   "cell_type": "code",
   "execution_count": 76,
   "id": "0ada0599",
   "metadata": {},
   "outputs": [
    {
     "data": {
      "text/html": [
       "<div>\n",
       "<style scoped>\n",
       "    .dataframe tbody tr th:only-of-type {\n",
       "        vertical-align: middle;\n",
       "    }\n",
       "\n",
       "    .dataframe tbody tr th {\n",
       "        vertical-align: top;\n",
       "    }\n",
       "\n",
       "    .dataframe thead th {\n",
       "        text-align: right;\n",
       "    }\n",
       "</style>\n",
       "<table border=\"1\" class=\"dataframe\">\n",
       "  <thead>\n",
       "    <tr style=\"text-align: right;\">\n",
       "      <th></th>\n",
       "      <th>run_id</th>\n",
       "      <th>experiment_id</th>\n",
       "      <th>status</th>\n",
       "      <th>artifact_uri</th>\n",
       "      <th>start_time</th>\n",
       "      <th>end_time</th>\n",
       "      <th>metrics.rmse</th>\n",
       "      <th>metrics.r2</th>\n",
       "      <th>metrics.mse</th>\n",
       "      <th>tags.mlflow.user</th>\n",
       "      <th>tags.mlflow.runName</th>\n",
       "      <th>tags.mlflow.source.name</th>\n",
       "      <th>tags.mlflow.source.type</th>\n",
       "      <th>tags.mlflow.log-model.history</th>\n",
       "    </tr>\n",
       "  </thead>\n",
       "  <tbody>\n",
       "    <tr>\n",
       "      <th>0</th>\n",
       "      <td>6af4b98f4a3f45d8bd342740878f61f2</td>\n",
       "      <td>154567500677710227</td>\n",
       "      <td>FINISHED</td>\n",
       "      <td>file:///c:/Users/renan.vital/Documents/Pessoal...</td>\n",
       "      <td>2023-10-13 13:57:52.181000+00:00</td>\n",
       "      <td>2023-10-13 13:58:18.156000+00:00</td>\n",
       "      <td>37238.789724</td>\n",
       "      <td>0.801274</td>\n",
       "      <td>1.386727e+09</td>\n",
       "      <td>renan.vital</td>\n",
       "      <td>unique-toad-787</td>\n",
       "      <td>c:\\Users\\renan.vital\\Anaconda3\\envs\\mlflow\\lib...</td>\n",
       "      <td>LOCAL</td>\n",
       "      <td>[{\"run_id\": \"6af4b98f4a3f45d8bd342740878f61f2\"...</td>\n",
       "    </tr>\n",
       "    <tr>\n",
       "      <th>1</th>\n",
       "      <td>b41234fe5bab4e659168242897a9fd65</td>\n",
       "      <td>154567500677710227</td>\n",
       "      <td>FINISHED</td>\n",
       "      <td>file:///c:/Users/renan.vital/Documents/Pessoal...</td>\n",
       "      <td>2023-10-13 13:48:10.109000+00:00</td>\n",
       "      <td>2023-10-13 13:49:18.551000+00:00</td>\n",
       "      <td>45592.399783</td>\n",
       "      <td>0.702115</td>\n",
       "      <td>2.078667e+09</td>\n",
       "      <td>renan.vital</td>\n",
       "      <td>abundant-gnu-647</td>\n",
       "      <td>c:\\Users\\renan.vital\\Anaconda3\\envs\\mlflow\\lib...</td>\n",
       "      <td>LOCAL</td>\n",
       "      <td>[{\"run_id\": \"b41234fe5bab4e659168242897a9fd65\"...</td>\n",
       "    </tr>\n",
       "  </tbody>\n",
       "</table>\n",
       "</div>"
      ],
      "text/plain": [
       "                             run_id       experiment_id    status  \\\n",
       "0  6af4b98f4a3f45d8bd342740878f61f2  154567500677710227  FINISHED   \n",
       "1  b41234fe5bab4e659168242897a9fd65  154567500677710227  FINISHED   \n",
       "\n",
       "                                        artifact_uri  \\\n",
       "0  file:///c:/Users/renan.vital/Documents/Pessoal...   \n",
       "1  file:///c:/Users/renan.vital/Documents/Pessoal...   \n",
       "\n",
       "                        start_time                         end_time  \\\n",
       "0 2023-10-13 13:57:52.181000+00:00 2023-10-13 13:58:18.156000+00:00   \n",
       "1 2023-10-13 13:48:10.109000+00:00 2023-10-13 13:49:18.551000+00:00   \n",
       "\n",
       "   metrics.rmse  metrics.r2   metrics.mse tags.mlflow.user  \\\n",
       "0  37238.789724    0.801274  1.386727e+09      renan.vital   \n",
       "1  45592.399783    0.702115  2.078667e+09      renan.vital   \n",
       "\n",
       "  tags.mlflow.runName                            tags.mlflow.source.name  \\\n",
       "0     unique-toad-787  c:\\Users\\renan.vital\\Anaconda3\\envs\\mlflow\\lib...   \n",
       "1    abundant-gnu-647  c:\\Users\\renan.vital\\Anaconda3\\envs\\mlflow\\lib...   \n",
       "\n",
       "  tags.mlflow.source.type                      tags.mlflow.log-model.history  \n",
       "0                   LOCAL  [{\"run_id\": \"6af4b98f4a3f45d8bd342740878f61f2\"...  \n",
       "1                   LOCAL  [{\"run_id\": \"b41234fe5bab4e659168242897a9fd65\"...  "
      ]
     },
     "execution_count": 76,
     "metadata": {},
     "output_type": "execute_result"
    }
   ],
   "source": [
    "mlflow.search_runs()"
   ]
  },
  {
   "cell_type": "code",
   "execution_count": 74,
   "id": "564186a0",
   "metadata": {},
   "outputs": [
    {
     "data": {
      "text/plain": [
       "<Run: data=<RunData: metrics={'mse': 2078666917.9289913,\n",
       " 'r2': 0.7021153642898048,\n",
       " 'rmse': 45592.399782518485}, params={}, tags={'mlflow.log-model.history': '[{\"run_id\": \"b41234fe5bab4e659168242897a9fd65\", '\n",
       "                             '\"artifact_path\": \"lr\", \"utc_time_created\": '\n",
       "                             '\"2023-10-13 13:48:10.306262\", \"flavors\": '\n",
       "                             '{\"python_function\": {\"model_path\": \"model.pkl\", '\n",
       "                             '\"predict_fn\": \"predict\", \"loader_module\": '\n",
       "                             '\"mlflow.sklearn\", \"python_version\": \"3.10.9\", '\n",
       "                             '\"env\": {\"conda\": \"conda.yaml\", \"virtualenv\": '\n",
       "                             '\"python_env.yaml\"}}, \"sklearn\": '\n",
       "                             '{\"pickled_model\": \"model.pkl\", '\n",
       "                             '\"sklearn_version\": \"1.2.1\", '\n",
       "                             '\"serialization_format\": \"cloudpickle\", \"code\": '\n",
       "                             'null}}, \"model_uuid\": '\n",
       "                             '\"501c285aabf44106ab9cebc876e33a2c\", '\n",
       "                             '\"mlflow_version\": \"2.7.1\"}]',\n",
       " 'mlflow.runName': 'abundant-gnu-647',\n",
       " 'mlflow.source.name': 'c:\\\\Users\\\\renan.vital\\\\Anaconda3\\\\envs\\\\mlflow\\\\lib\\\\site-packages\\\\ipykernel_launcher.py',\n",
       " 'mlflow.source.type': 'LOCAL',\n",
       " 'mlflow.user': 'renan.vital'}>, info=<RunInfo: artifact_uri='file:///c:/Users/renan.vital/Documents/Pessoal/ml_flow/mlflow/notebooks/mlruns/154567500677710227/b41234fe5bab4e659168242897a9fd65/artifacts', end_time=1697204958551, experiment_id='154567500677710227', lifecycle_stage='active', run_id='b41234fe5bab4e659168242897a9fd65', run_name='abundant-gnu-647', run_uuid='b41234fe5bab4e659168242897a9fd65', start_time=1697204890109, status='FINISHED', user_id='renan.vital'>, inputs=<RunInputs: dataset_inputs=[]>>"
      ]
     },
     "execution_count": 74,
     "metadata": {},
     "output_type": "execute_result"
    }
   ],
   "source": [
    "mlflow.get_run('b41234fe5bab4e659168242897a9fd65')"
   ]
  },
  {
   "cell_type": "code",
   "execution_count": 73,
   "id": "1e6e1769",
   "metadata": {},
   "outputs": [
    {
     "data": {
      "text/plain": [
       "<Run: data=<RunData: metrics={'mse': 1386727460.1346002,\n",
       " 'r2': 0.8012741720529797,\n",
       " 'rmse': 37238.789724353286}, params={}, tags={'mlflow.log-model.history': '[{\"run_id\": \"6af4b98f4a3f45d8bd342740878f61f2\", '\n",
       "                             '\"artifact_path\": \"xgboost\", \"utc_time_created\": '\n",
       "                             '\"2023-10-13 13:57:52.620251\", \"flavors\": '\n",
       "                             '{\"python_function\": {\"loader_module\": '\n",
       "                             '\"mlflow.xgboost\", \"python_version\": \"3.10.9\", '\n",
       "                             '\"data\": \"model.xgb\", \"env\": {\"conda\": '\n",
       "                             '\"conda.yaml\", \"virtualenv\": \"python_env.yaml\"}}, '\n",
       "                             '\"xgboost\": {\"xgb_version\": \"1.7.3\", \"data\": '\n",
       "                             '\"model.xgb\", \"model_class\": '\n",
       "                             '\"xgboost.sklearn.XGBRegressor\", \"model_format\": '\n",
       "                             '\"xgb\", \"code\": null}}, \"model_uuid\": '\n",
       "                             '\"bb34a964eed6420e94bf8aa7001e5dc1\", '\n",
       "                             '\"mlflow_version\": \"2.7.1\"}]',\n",
       " 'mlflow.runName': 'unique-toad-787',\n",
       " 'mlflow.source.name': 'c:\\\\Users\\\\renan.vital\\\\Anaconda3\\\\envs\\\\mlflow\\\\lib\\\\site-packages\\\\ipykernel_launcher.py',\n",
       " 'mlflow.source.type': 'LOCAL',\n",
       " 'mlflow.user': 'renan.vital'}>, info=<RunInfo: artifact_uri='file:///c:/Users/renan.vital/Documents/Pessoal/ml_flow/mlflow/notebooks/mlruns/154567500677710227/6af4b98f4a3f45d8bd342740878f61f2/artifacts', end_time=1697205498156, experiment_id='154567500677710227', lifecycle_stage='active', run_id='6af4b98f4a3f45d8bd342740878f61f2', run_name='unique-toad-787', run_uuid='6af4b98f4a3f45d8bd342740878f61f2', start_time=1697205472181, status='FINISHED', user_id='renan.vital'>, inputs=<RunInputs: dataset_inputs=[]>>"
      ]
     },
     "execution_count": 73,
     "metadata": {},
     "output_type": "execute_result"
    }
   ],
   "source": [
    "mlflow.get_run('6af4b98f4a3f45d8bd342740878f61f2')"
   ]
  },
  {
   "cell_type": "code",
   "execution_count": null,
   "id": "2d9a0884",
   "metadata": {},
   "outputs": [],
   "source": []
  }
 ],
 "metadata": {
  "kernelspec": {
   "display_name": "Python (mlflow)",
   "language": "python",
   "name": "mlflow"
  },
  "language_info": {
   "codemirror_mode": {
    "name": "ipython",
    "version": 3
   },
   "file_extension": ".py",
   "mimetype": "text/x-python",
   "name": "python",
   "nbconvert_exporter": "python",
   "pygments_lexer": "ipython3",
   "version": "3.10.9"
  }
 },
 "nbformat": 4,
 "nbformat_minor": 5
}
